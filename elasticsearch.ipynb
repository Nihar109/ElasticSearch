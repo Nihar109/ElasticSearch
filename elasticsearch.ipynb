{
 "cells": [
  {
   "cell_type": "code",
   "execution_count": 42,
   "id": "cec18351",
   "metadata": {},
   "outputs": [
    {
     "name": "stdout",
     "output_type": "stream",
     "text": [
      "Collecting elasticsearch\n",
      "  Using cached elasticsearch-8.2.3-py3-none-any.whl (381 kB)\n",
      "Requirement already satisfied, skipping upgrade: elastic-transport<9,>=8 in /home/neosoft/.local/lib/python3.8/site-packages (from elasticsearch) (8.1.2)\n",
      "Requirement already satisfied, skipping upgrade: urllib3<2,>=1.26.2 in /home/neosoft/.local/lib/python3.8/site-packages (from elastic-transport<9,>=8->elasticsearch) (1.26.9)\n",
      "Requirement already satisfied, skipping upgrade: certifi in /usr/lib/python3/dist-packages (from elastic-transport<9,>=8->elasticsearch) (2019.11.28)\n",
      "\u001b[31mERROR: pyelasticsearch 1.4.1 has requirement elasticsearch<2.0.0,>=1.3.0, but you'll have elasticsearch 8.2.3 which is incompatible.\u001b[0m\n",
      "Installing collected packages: elasticsearch\n",
      "  Attempting uninstall: elasticsearch\n",
      "    Found existing installation: elasticsearch 1.9.0\n",
      "    Uninstalling elasticsearch-1.9.0:\n",
      "      Successfully uninstalled elasticsearch-1.9.0\n",
      "Successfully installed elasticsearch-8.2.3\n",
      "Note: you may need to restart the kernel to use updated packages.\n"
     ]
    }
   ],
   "source": [
    "pip install -U elasticsearch"
   ]
  },
  {
   "cell_type": "code",
   "execution_count": 1,
   "id": "d038c0d0",
   "metadata": {},
   "outputs": [
    {
     "name": "stdout",
     "output_type": "stream",
     "text": [
      "Loaded ... ... ...\n"
     ]
    }
   ],
   "source": [
    "try:\n",
    "    import elasticsearch\n",
    "    from elasticsearch import Elasticsearch\n",
    "    import pandas as pd\n",
    "    import json\n",
    "    from ast import literal_eval\n",
    "    from tqdm import tqdm\n",
    "    import datetime\n",
    "    import os\n",
    "    import sys\n",
    "    import os\n",
    "    import numpy as np\n",
    "    from elasticsearch import helpers\n",
    "    print(\"Loaded ... ... ...\")\n",
    "except Exception as e:\n",
    "    print(\"Some Modules are Missing{}\".format(e))"
   ]
  },
  {
   "cell_type": "code",
   "execution_count": 2,
   "id": "3a295174",
   "metadata": {},
   "outputs": [
    {
     "name": "stdout",
     "output_type": "stream",
     "text": [
      ".ipynb_checkpoints\n",
      "elasticsearch.py.ipynb\n",
      "elasticsearch.ipynb\n",
      "Elastic_Search_Engine.ipynb\n",
      "netflix_titles.csv\n",
      "data_job.csv\n",
      ".git\n"
     ]
    }
   ],
   "source": [
    "for x in os.listdir():\n",
    "    print(x)"
   ]
  },
  {
   "cell_type": "markdown",
   "id": "4c9862c4",
   "metadata": {},
   "source": [
    "### read the dataset"
   ]
  },
  {
   "cell_type": "code",
   "execution_count": 3,
   "id": "0f37b71c",
   "metadata": {},
   "outputs": [
    {
     "data": {
      "text/html": [
       "<div>\n",
       "<style scoped>\n",
       "    .dataframe tbody tr th:only-of-type {\n",
       "        vertical-align: middle;\n",
       "    }\n",
       "\n",
       "    .dataframe tbody tr th {\n",
       "        vertical-align: top;\n",
       "    }\n",
       "\n",
       "    .dataframe thead th {\n",
       "        text-align: right;\n",
       "    }\n",
       "</style>\n",
       "<table border=\"1\" class=\"dataframe\">\n",
       "  <thead>\n",
       "    <tr style=\"text-align: right;\">\n",
       "      <th></th>\n",
       "      <th>show_id</th>\n",
       "      <th>type</th>\n",
       "      <th>title</th>\n",
       "      <th>director</th>\n",
       "      <th>cast</th>\n",
       "      <th>country</th>\n",
       "      <th>date_added</th>\n",
       "      <th>release_year</th>\n",
       "      <th>rating</th>\n",
       "      <th>duration</th>\n",
       "      <th>listed_in</th>\n",
       "      <th>description</th>\n",
       "    </tr>\n",
       "  </thead>\n",
       "  <tbody>\n",
       "    <tr>\n",
       "      <th>2208</th>\n",
       "      <td>s2209</td>\n",
       "      <td>Movie</td>\n",
       "      <td>Dragons: Rescue Riders: Secrets of the Songwing</td>\n",
       "      <td>Greg Rankin, TJ Sullivan</td>\n",
       "      <td>Noah Kaye Bentley, Brennley Brown, Zach Callis...</td>\n",
       "      <td>United States</td>\n",
       "      <td>July 24, 2020</td>\n",
       "      <td>2020</td>\n",
       "      <td>TV-Y</td>\n",
       "      <td>46 min</td>\n",
       "      <td>Children &amp; Family Movies, Comedies</td>\n",
       "      <td>When a musical dragon with a beautiful voice h...</td>\n",
       "    </tr>\n",
       "    <tr>\n",
       "      <th>8018</th>\n",
       "      <td>s8019</td>\n",
       "      <td>Movie</td>\n",
       "      <td>Silent Hill: Revelation</td>\n",
       "      <td>M.J. Bassett</td>\n",
       "      <td>Deborah Kara Unger, Adelaide Clemens, Sean Bea...</td>\n",
       "      <td>Canada, France, United States</td>\n",
       "      <td>December 13, 2019</td>\n",
       "      <td>2012</td>\n",
       "      <td>R</td>\n",
       "      <td>94 min</td>\n",
       "      <td>Horror Movies</td>\n",
       "      <td>Haunted by nightmares and her father's disappe...</td>\n",
       "    </tr>\n",
       "    <tr>\n",
       "      <th>1719</th>\n",
       "      <td>s1720</td>\n",
       "      <td>Movie</td>\n",
       "      <td>We Are All For The Fatherland</td>\n",
       "      <td>NaN</td>\n",
       "      <td>NaN</td>\n",
       "      <td>Lebanon, Canada, France</td>\n",
       "      <td>November 11, 2020</td>\n",
       "      <td>1979</td>\n",
       "      <td>TV-14</td>\n",
       "      <td>74 min</td>\n",
       "      <td>Documentaries, International Movies</td>\n",
       "      <td>After the 1978 Israeli invasion of Lebanon, ch...</td>\n",
       "    </tr>\n",
       "    <tr>\n",
       "      <th>4438</th>\n",
       "      <td>s4439</td>\n",
       "      <td>Movie</td>\n",
       "      <td>Ghanchakkar</td>\n",
       "      <td>Raj Kumar Gupta</td>\n",
       "      <td>Emraan Hashmi, Vidya Balan, Rajesh Sharma, Nam...</td>\n",
       "      <td>India</td>\n",
       "      <td>November 1, 2018</td>\n",
       "      <td>2013</td>\n",
       "      <td>TV-MA</td>\n",
       "      <td>129 min</td>\n",
       "      <td>Comedies, International Movies, Thrillers</td>\n",
       "      <td>Former con artist Sanju surrounds himself with...</td>\n",
       "    </tr>\n",
       "    <tr>\n",
       "      <th>4016</th>\n",
       "      <td>s4017</td>\n",
       "      <td>TV Show</td>\n",
       "      <td>Turn Up Charlie</td>\n",
       "      <td>NaN</td>\n",
       "      <td>Idris Elba, Piper Perabo, JJ Feild, Frankie He...</td>\n",
       "      <td>United Kingdom</td>\n",
       "      <td>March 15, 2019</td>\n",
       "      <td>2019</td>\n",
       "      <td>TV-MA</td>\n",
       "      <td>1 Season</td>\n",
       "      <td>British TV Shows, International TV Shows, TV C...</td>\n",
       "      <td>A down-and-out DJ plots to rebuild his music c...</td>\n",
       "    </tr>\n",
       "  </tbody>\n",
       "</table>\n",
       "</div>"
      ],
      "text/plain": [
       "     show_id     type                                            title  \\\n",
       "2208   s2209    Movie  Dragons: Rescue Riders: Secrets of the Songwing   \n",
       "8018   s8019    Movie                          Silent Hill: Revelation   \n",
       "1719   s1720    Movie                    We Are All For The Fatherland   \n",
       "4438   s4439    Movie                                      Ghanchakkar   \n",
       "4016   s4017  TV Show                                  Turn Up Charlie   \n",
       "\n",
       "                      director  \\\n",
       "2208  Greg Rankin, TJ Sullivan   \n",
       "8018              M.J. Bassett   \n",
       "1719                       NaN   \n",
       "4438           Raj Kumar Gupta   \n",
       "4016                       NaN   \n",
       "\n",
       "                                                   cast  \\\n",
       "2208  Noah Kaye Bentley, Brennley Brown, Zach Callis...   \n",
       "8018  Deborah Kara Unger, Adelaide Clemens, Sean Bea...   \n",
       "1719                                                NaN   \n",
       "4438  Emraan Hashmi, Vidya Balan, Rajesh Sharma, Nam...   \n",
       "4016  Idris Elba, Piper Perabo, JJ Feild, Frankie He...   \n",
       "\n",
       "                            country         date_added  release_year rating  \\\n",
       "2208                  United States      July 24, 2020          2020   TV-Y   \n",
       "8018  Canada, France, United States  December 13, 2019          2012      R   \n",
       "1719        Lebanon, Canada, France  November 11, 2020          1979  TV-14   \n",
       "4438                          India   November 1, 2018          2013  TV-MA   \n",
       "4016                 United Kingdom     March 15, 2019          2019  TV-MA   \n",
       "\n",
       "      duration                                          listed_in  \\\n",
       "2208    46 min                 Children & Family Movies, Comedies   \n",
       "8018    94 min                                      Horror Movies   \n",
       "1719    74 min                Documentaries, International Movies   \n",
       "4438   129 min          Comedies, International Movies, Thrillers   \n",
       "4016  1 Season  British TV Shows, International TV Shows, TV C...   \n",
       "\n",
       "                                            description  \n",
       "2208  When a musical dragon with a beautiful voice h...  \n",
       "8018  Haunted by nightmares and her father's disappe...  \n",
       "1719  After the 1978 Israeli invasion of Lebanon, ch...  \n",
       "4438  Former con artist Sanju surrounds himself with...  \n",
       "4016  A down-and-out DJ plots to rebuild his music c...  "
      ]
     },
     "execution_count": 3,
     "metadata": {},
     "output_type": "execute_result"
    }
   ],
   "source": [
    "df = pd.read_csv('netflix_titles.csv')\n",
    "df.sample(5)"
   ]
  },
  {
   "cell_type": "code",
   "execution_count": 4,
   "id": "f9961db4",
   "metadata": {},
   "outputs": [
    {
     "data": {
      "text/plain": [
       "Index(['show_id', 'type', 'title', 'director', 'cast', 'country', 'date_added',\n",
       "       'release_year', 'rating', 'duration', 'listed_in', 'description'],\n",
       "      dtype='object')"
      ]
     },
     "execution_count": 4,
     "metadata": {},
     "output_type": "execute_result"
    }
   ],
   "source": [
    "df.columns"
   ]
  },
  {
   "cell_type": "code",
   "execution_count": 5,
   "id": "5a7ad58a",
   "metadata": {},
   "outputs": [
    {
     "data": {
      "text/plain": [
       "(8807, 12)"
      ]
     },
     "execution_count": 5,
     "metadata": {},
     "output_type": "execute_result"
    }
   ],
   "source": [
    "df.shape"
   ]
  },
  {
   "cell_type": "code",
   "execution_count": 6,
   "id": "e6dc9c10",
   "metadata": {},
   "outputs": [
    {
     "data": {
      "text/plain": [
       "8807"
      ]
     },
     "execution_count": 6,
     "metadata": {},
     "output_type": "execute_result"
    }
   ],
   "source": [
    "df[\"show_id\"].nunique()"
   ]
  },
  {
   "cell_type": "markdown",
   "id": "0b21010b",
   "metadata": {},
   "source": [
    "### Creating a elastic Search Instance"
   ]
  },
  {
   "cell_type": "code",
   "execution_count": 7,
   "id": "8067565d",
   "metadata": {},
   "outputs": [
    {
     "name": "stderr",
     "output_type": "stream",
     "text": [
      "/tmp/ipykernel_7074/4263798987.py:2: DeprecationWarning: The 'timeout' parameter is deprecated in favor of 'request_timeout'\n",
      "  es = Elasticsearch(timeout=600,hosts=ENDPOINT)\n"
     ]
    }
   ],
   "source": [
    "ENDPOINT = \"http://localhost:9200/\"\n",
    "es = Elasticsearch(timeout=600,hosts=ENDPOINT)"
   ]
  },
  {
   "cell_type": "code",
   "execution_count": 8,
   "id": "6f16377f",
   "metadata": {},
   "outputs": [
    {
     "name": "stderr",
     "output_type": "stream",
     "text": [
      "/tmp/ipykernel_7074/2803272245.py:1: ElasticsearchWarning: Elasticsearch built-in security features are not enabled. Without authentication, your cluster could be accessible to anyone. See https://www.elastic.co/guide/en/elasticsearch/reference/7.17/security-minimal-setup.html to enable security.\n",
      "  es.ping()\n"
     ]
    },
    {
     "data": {
      "text/plain": [
       "True"
      ]
     },
     "execution_count": 8,
     "metadata": {},
     "output_type": "execute_result"
    }
   ],
   "source": [
    "es.ping()"
   ]
  },
  {
   "cell_type": "markdown",
   "id": "8fa174d7",
   "metadata": {},
   "source": [
    "### Before uploading do some data cleaning"
   ]
  },
  {
   "cell_type": "code",
   "execution_count": 10,
   "id": "5a7f1713",
   "metadata": {},
   "outputs": [
    {
     "data": {
      "text/plain": [
       "show_id            0\n",
       "type               0\n",
       "title              0\n",
       "director        2634\n",
       "cast             825\n",
       "country          831\n",
       "date_added        10\n",
       "release_year       0\n",
       "rating             4\n",
       "duration           3\n",
       "listed_in          0\n",
       "description        0\n",
       "dtype: int64"
      ]
     },
     "execution_count": 10,
     "metadata": {},
     "output_type": "execute_result"
    }
   ],
   "source": [
    "df.isna().sum()"
   ]
  },
  {
   "cell_type": "code",
   "execution_count": 11,
   "id": "c41bae4e",
   "metadata": {},
   "outputs": [],
   "source": [
    "df = df.dropna()"
   ]
  },
  {
   "cell_type": "code",
   "execution_count": 12,
   "id": "ff3b39cc",
   "metadata": {},
   "outputs": [
    {
     "data": {
      "text/plain": [
       "show_id         0\n",
       "type            0\n",
       "title           0\n",
       "director        0\n",
       "cast            0\n",
       "country         0\n",
       "date_added      0\n",
       "release_year    0\n",
       "rating          0\n",
       "duration        0\n",
       "listed_in       0\n",
       "description     0\n",
       "dtype: int64"
      ]
     },
     "execution_count": 12,
     "metadata": {},
     "output_type": "execute_result"
    }
   ],
   "source": [
    "df.isna().sum()"
   ]
  },
  {
   "cell_type": "code",
   "execution_count": 13,
   "id": "fbb6e1bf",
   "metadata": {},
   "outputs": [
    {
     "data": {
      "text/plain": [
       "(5332, 12)"
      ]
     },
     "execution_count": 13,
     "metadata": {},
     "output_type": "execute_result"
    }
   ],
   "source": [
    "df.shape"
   ]
  },
  {
   "cell_type": "markdown",
   "id": "7198816f",
   "metadata": {},
   "source": [
    "#### We need to convert the data an appropriate format that elastic search can understand"
   ]
  },
  {
   "cell_type": "code",
   "execution_count": 14,
   "id": "5cc1748a",
   "metadata": {},
   "outputs": [],
   "source": [
    "df2 = df.to_dict('records')"
   ]
  },
  {
   "cell_type": "code",
   "execution_count": 15,
   "id": "856d385a",
   "metadata": {},
   "outputs": [
    {
     "data": {
      "text/plain": [
       "{'show_id': 's8',\n",
       " 'type': 'Movie',\n",
       " 'title': 'Sankofa',\n",
       " 'director': 'Haile Gerima',\n",
       " 'cast': 'Kofi Ghanaba, Oyafunmike Ogunlano, Alexandra Duah, Nick Medley, Mutabaruka, Afemo Omilami, Reggie Carter, Mzuri',\n",
       " 'country': 'United States, Ghana, Burkina Faso, United Kingdom, Germany, Ethiopia',\n",
       " 'date_added': 'September 24, 2021',\n",
       " 'release_year': 1993,\n",
       " 'rating': 'TV-MA',\n",
       " 'duration': '125 min',\n",
       " 'listed_in': 'Dramas, Independent Movies, International Movies',\n",
       " 'description': 'On a photo shoot in Ghana, an American model slips back in time, becomes enslaved on a plantation and bears witness to the agony of her ancestral past.'}"
      ]
     },
     "execution_count": 15,
     "metadata": {},
     "output_type": "execute_result"
    }
   ],
   "source": [
    "df2[0]"
   ]
  },
  {
   "cell_type": "code",
   "execution_count": 16,
   "id": "bc53d57f",
   "metadata": {},
   "outputs": [
    {
     "data": {
      "text/plain": [
       "5332"
      ]
     },
     "execution_count": 16,
     "metadata": {},
     "output_type": "execute_result"
    }
   ],
   "source": [
    "len(df2)"
   ]
  },
  {
   "cell_type": "code",
   "execution_count": 17,
   "id": "76aa4b2c",
   "metadata": {},
   "outputs": [
    {
     "data": {
      "text/plain": [
       "Index(['show_id', 'type', 'title', 'director', 'cast', 'country', 'date_added',\n",
       "       'release_year', 'rating', 'duration', 'listed_in', 'description'],\n",
       "      dtype='object')"
      ]
     },
     "execution_count": 17,
     "metadata": {},
     "output_type": "execute_result"
    }
   ],
   "source": [
    "df.columns"
   ]
  },
  {
   "cell_type": "markdown",
   "id": "c8b0db9d",
   "metadata": {},
   "source": [
    "## we need to convert the data into ELK format"
   ]
  },
  {
   "cell_type": "code",
   "execution_count": 18,
   "id": "50ba7f66",
   "metadata": {},
   "outputs": [],
   "source": [
    "def generator(df2):\n",
    "    for c,line in enumerate(df2):\n",
    "        yield {\n",
    "    '_index': 'myelkfirst',\n",
    "    '_type': '_doc',\n",
    "    '_id': line.get(\"show_id\",None),\n",
    "    '_source': {       \n",
    "       'title': line.get(\"title\",\"\"),\n",
    "       'director':line.get('director',\"\"),\n",
    "       'description':line.get('description',\"\"),\n",
    "        'duration':line.get('duration',None),\n",
    "        'cast': line.get('cast',None)\n",
    "        }\n",
    "         }\n",
    "    raise StopIteration"
   ]
  },
  {
   "cell_type": "code",
   "execution_count": 19,
   "id": "af79e4d0",
   "metadata": {},
   "outputs": [],
   "source": [
    "mycustom = generator(df2)"
   ]
  },
  {
   "cell_type": "code",
   "execution_count": 20,
   "id": "782802a6",
   "metadata": {},
   "outputs": [
    {
     "data": {
      "text/plain": [
       "<generator object generator at 0x7f5731fa4890>"
      ]
     },
     "execution_count": 20,
     "metadata": {},
     "output_type": "execute_result"
    }
   ],
   "source": [
    "mycustom"
   ]
  },
  {
   "cell_type": "code",
   "execution_count": 21,
   "id": "3fb2819b",
   "metadata": {},
   "outputs": [
    {
     "data": {
      "text/plain": [
       "{'_index': 'myelkfirst',\n",
       " '_type': '_doc',\n",
       " '_id': 's8',\n",
       " '_source': {'title': 'Sankofa',\n",
       "  'director': 'Haile Gerima',\n",
       "  'description': 'On a photo shoot in Ghana, an American model slips back in time, becomes enslaved on a plantation and bears witness to the agony of her ancestral past.',\n",
       "  'duration': '125 min',\n",
       "  'cast': 'Kofi Ghanaba, Oyafunmike Ogunlano, Alexandra Duah, Nick Medley, Mutabaruka, Afemo Omilami, Reggie Carter, Mzuri'}}"
      ]
     },
     "execution_count": 21,
     "metadata": {},
     "output_type": "execute_result"
    }
   ],
   "source": [
    "next(mycustom)"
   ]
  },
  {
   "cell_type": "code",
   "execution_count": 22,
   "id": "8f469777",
   "metadata": {},
   "outputs": [
    {
     "data": {
      "text/plain": [
       "'{\\n   \"_index\": \"myelkfirst\",\\n   \"_type\": \"_doc\",\\n   \"_id\": \"s9\",\\n   \"_source\": {\\n      \"title\": \"The Great British Baking Show\",\\n      \"director\": \"Andy Devonshire\",\\n      \"description\": \"A talented batch of amateur bakers face off in a 10-week competition, whipping up their best dishes in the hopes of being named the U.K.\\'s best.\",\\n      \"duration\": \"9 Seasons\",\\n      \"cast\": \"Mel Giedroyc, Sue Perkins, Mary Berry, Paul Hollywood\"\\n   }\\n}'"
      ]
     },
     "execution_count": 22,
     "metadata": {},
     "output_type": "execute_result"
    }
   ],
   "source": [
    "import json\n",
    "json.dumps(next(mycustom), indent=3)\n"
   ]
  },
  {
   "cell_type": "markdown",
   "id": "e541fa1a",
   "metadata": {},
   "source": [
    "## Settings or Mappings"
   ]
  },
  {
   "cell_type": "code",
   "execution_count": 23,
   "id": "4dcf41d5",
   "metadata": {},
   "outputs": [],
   "source": [
    "Settings={\n",
    "   \"settings\":{\n",
    "      \"number_of_shards\":1,\n",
    "      \"number_of_replicas\":0\n",
    "   },\n",
    "   \"mappings\":{\n",
    "      \"properties\":{\n",
    "         \"director\":{\n",
    "            \"type\":\"text\"\n",
    "         },\n",
    "         \"duration\":{\n",
    "            \"type\":\"text\"\n",
    "         }\n",
    "      }\n",
    "   }\n",
    "}"
   ]
  },
  {
   "cell_type": "code",
   "execution_count": 25,
   "id": "e22c48b9",
   "metadata": {},
   "outputs": [
    {
     "name": "stderr",
     "output_type": "stream",
     "text": [
      "/tmp/ipykernel_7074/3487492872.py:2: DeprecationWarning: Passing transport options in the API method is deprecated. Use 'Elasticsearch.options()' instead.\n",
      "  my = es.indices.create(index='myelkfirst', ignore=[400,404], body=Settings)\n",
      "/tmp/ipykernel_7074/3487492872.py:2: DeprecationWarning: The 'body' parameter is deprecated and will be removed in a future version. Instead use individual parameters.\n",
      "  my = es.indices.create(index='myelkfirst', ignore=[400,404], body=Settings)\n",
      "/tmp/ipykernel_7074/3487492872.py:2: ElasticsearchWarning: Elasticsearch built-in security features are not enabled. Without authentication, your cluster could be accessible to anyone. See https://www.elastic.co/guide/en/elasticsearch/reference/7.17/security-minimal-setup.html to enable security.\n",
      "  my = es.indices.create(index='myelkfirst', ignore=[400,404], body=Settings)\n"
     ]
    }
   ],
   "source": [
    "IndexName = ''\n",
    "my = es.indices.create(index='myelkfirst', ignore=[400,404], body=Settings)"
   ]
  },
  {
   "cell_type": "code",
   "execution_count": 32,
   "id": "cb86ca9a",
   "metadata": {},
   "outputs": [
    {
     "data": {
      "text/plain": [
       "ObjectApiResponse({'acknowledged': True, 'shards_acknowledged': True, 'index': 'myelkfirst'})"
      ]
     },
     "execution_count": 32,
     "metadata": {},
     "output_type": "execute_result"
    }
   ],
   "source": [
    "my"
   ]
  },
  {
   "cell_type": "markdown",
   "id": "06120b0a",
   "metadata": {},
   "source": [
    "## Upload the document into the Elastic Search"
   ]
  },
  {
   "cell_type": "code",
   "execution_count": 26,
   "id": "a77080ee",
   "metadata": {},
   "outputs": [
    {
     "name": "stderr",
     "output_type": "stream",
     "text": [
      "/tmp/ipykernel_7074/478267927.py:2: ElasticsearchWarning: Elasticsearch built-in security features are not enabled. Without authentication, your cluster could be accessible to anyone. See https://www.elastic.co/guide/en/elasticsearch/reference/7.17/security-minimal-setup.html to enable security.\n",
      "  res = helpers.bulk(es, generator(df2))\n",
      "/tmp/ipykernel_7074/478267927.py:2: ElasticsearchWarning: [types removal] Specifying types in bulk requests is deprecated.\n",
      "  res = helpers.bulk(es, generator(df2))\n"
     ]
    }
   ],
   "source": [
    "try:\n",
    "    res = helpers.bulk(es, generator(df2))\n",
    "    print('Working')\n",
    "except Exception as e:\n",
    "    pass"
   ]
  },
  {
   "cell_type": "markdown",
   "id": "dfcf8313",
   "metadata": {},
   "source": [
    "## Search Query Match Pharse"
   ]
  },
  {
   "cell_type": "code",
   "execution_count": 27,
   "id": "e84f2b64",
   "metadata": {},
   "outputs": [
    {
     "name": "stdout",
     "output_type": "stream",
     "text": [
      "Enter the Input Query Norm of the North\n"
     ]
    },
    {
     "name": "stderr",
     "output_type": "stream",
     "text": [
      "/tmp/ipykernel_7074/35652014.py:13: DeprecationWarning: The 'body' parameter is deprecated and will be removed in a future version. Instead use individual parameters.\n",
      "  res = es.search(index='myelkfirst',\n",
      "/tmp/ipykernel_7074/35652014.py:13: ElasticsearchWarning: Elasticsearch built-in security features are not enabled. Without authentication, your cluster could be accessible to anyone. See https://www.elastic.co/guide/en/elasticsearch/reference/7.17/security-minimal-setup.html to enable security.\n",
      "  res = es.search(index='myelkfirst',\n"
     ]
    },
    {
     "data": {
      "text/plain": [
       "[{'duration': '89 min',\n",
       "  'cast': 'Andrew Toth, Lisa Durupt, Jonathan Holmes, Paul Dobson, Cole Howard, Brian Drummond, Jennifer Cameron',\n",
       "  'director': 'Anthony Bell',\n",
       "  'title': 'Norm of the North: Family Vacation'},\n",
       " {'duration': '90 min',\n",
       "  'cast': 'Alan Marriott, Andrew Toth, Brian Dobson, Cole Howard, Jennifer Cameron, Jonathan Holmes, Lee Tockar, Lisa Durupt, Maya Kay, Michael Dobson',\n",
       "  'director': 'Richard Finn, Tim Maltby',\n",
       "  'title': 'Norm of the North: King Sized Adventure'},\n",
       " {'duration': '92 min',\n",
       "  'cast': 'Andrew Toth, Cole Howard, Maya Kay, Jennifer Cameron, Alan Marriott, Lee Tockar, Brian Drummond',\n",
       "  'director': 'Tim Maltby',\n",
       "  'title': 'Norm of the North: Keys to the Kingdom'}]"
      ]
     },
     "execution_count": 27,
     "metadata": {},
     "output_type": "execute_result"
    }
   ],
   "source": [
    "INPUT = input(\"Enter the Input Query  : \")\n",
    "\n",
    "query = {\n",
    "   \"_source\": [\"title\",\"cast\",\"director\",\"duration\"],\n",
    "   \"size\":50,\n",
    "   \"query\":{\n",
    "      \"match_phrase\": {\n",
    "        \"title\": INPUT\n",
    "      }\n",
    "   }\n",
    "}\n",
    "#es = Elasticsearch(timeout=600, hosts=os.getenv(\"ENDPOINT\"))\n",
    "res = es.search(index='myelkfirst',\n",
    "                body=query)\n",
    "\n",
    "title = [x['_source']  for x in res['hits']['hits']]\n",
    "title"
   ]
  },
  {
   "cell_type": "markdown",
   "id": "597713eb",
   "metadata": {},
   "source": [
    "## Search Query for match"
   ]
  },
  {
   "cell_type": "code",
   "execution_count": 28,
   "id": "1d4b69c8",
   "metadata": {},
   "outputs": [
    {
     "name": "stdout",
     "output_type": "stream",
     "text": [
      "Enter the Input Query  : Norm of the North\n"
     ]
    },
    {
     "name": "stderr",
     "output_type": "stream",
     "text": [
      "/tmp/ipykernel_7074/859594177.py:13: DeprecationWarning: The 'body' parameter is deprecated and will be removed in a future version. Instead use individual parameters.\n",
      "  res = es.search(index='myelkfirst',\n",
      "/tmp/ipykernel_7074/859594177.py:13: ElasticsearchWarning: Elasticsearch built-in security features are not enabled. Without authentication, your cluster could be accessible to anyone. See https://www.elastic.co/guide/en/elasticsearch/reference/7.17/security-minimal-setup.html to enable security.\n",
      "  res = es.search(index='myelkfirst',\n"
     ]
    },
    {
     "data": {
      "text/plain": [
       "[{'duration': '89 min',\n",
       "  'cast': 'Andrew Toth, Lisa Durupt, Jonathan Holmes, Paul Dobson, Cole Howard, Brian Drummond, Jennifer Cameron',\n",
       "  'director': 'Anthony Bell',\n",
       "  'title': 'Norm of the North: Family Vacation'},\n",
       " {'duration': '90 min',\n",
       "  'cast': 'Alan Marriott, Andrew Toth, Brian Dobson, Cole Howard, Jennifer Cameron, Jonathan Holmes, Lee Tockar, Lisa Durupt, Maya Kay, Michael Dobson',\n",
       "  'director': 'Richard Finn, Tim Maltby',\n",
       "  'title': 'Norm of the North: King Sized Adventure'},\n",
       " {'duration': '92 min',\n",
       "  'cast': 'Andrew Toth, Cole Howard, Maya Kay, Jennifer Cameron, Alan Marriott, Lee Tockar, Brian Drummond',\n",
       "  'director': 'Tim Maltby',\n",
       "  'title': 'Norm of the North: Keys to the Kingdom'},\n",
       " {'duration': '99 min',\n",
       "  'cast': 'Banky Wellington, Rahama Sadau, Kanayo O. Kanayo, Ibrahim Suleiman, Michelle Dede, Adesua Etomi, Hilda Dokubo, Akin Lewis',\n",
       "  'director': 'Tope Oshin',\n",
       "  'title': 'Up North'},\n",
       " {'duration': '61 min',\n",
       "  'cast': 'Norm MacDonald',\n",
       "  'director': 'Liz Plonka',\n",
       "  'title': \"Norm Macdonald: Hitler's Dog, Gossip & Trickery\"},\n",
       " {'duration': '89 min',\n",
       "  'cast': 'Mike Smith, John Paul Tremblay, Robb Wells, John Dunsworth, Pat Roach, Jacob Rolfe, Marguerite McNeil, Doug Barron, Paul Doucette, Gareth Meagher',\n",
       "  'director': 'Mike Smith, John Paul Tremblay, Robb Wells',\n",
       "  'title': 'Trailer Park Boys Live at the North Pole'},\n",
       " {'duration': '117 min',\n",
       "  'cast': 'Adam Sandler, Chris Rock, Steve Buscemi, Rachel Dratch, Allison Strong, Roland Buck III, Katie Hartman, Chloe Himmelman, Jake Lippmann, Jim Barone, June Gable',\n",
       "  'director': 'Robert Smigel',\n",
       "  'title': 'The Week Of'},\n",
       " {'duration': '55 min',\n",
       "  'cast': 'Samuel West',\n",
       "  'director': 'Vicky Matthews',\n",
       "  'title': 'Secrets of the Tower of London'},\n",
       " {'duration': '1 Season',\n",
       "  'cast': 'Sola Sobowale, Toni Tones, Richard Mofe-Damijo, Efa Iwara, Titi Kuti, Tobechukwu \"iLLbliss\" Ejiofor, Remilekun \"Reminisce\" Safaru, Charles  \"Charly Boy\" Oputa, Nse Ikpe-Etim, Keppy Ekpenyong Bassey, Bimbo Manuel, Akin Lewis, Lord Frank, Osas Ighodaro, Taiwo Ajai-Lycett, Paul Sambo',\n",
       "  'director': 'Kemi Adetiba',\n",
       "  'title': 'King of Boys: The Return of the King'},\n",
       " {'duration': '97 min',\n",
       "  'cast': 'Helen Mirren, Geoffrey Rush, Jim Sturgess, Hugo Weaving, Emily Barclay, Abbie Cornish, Ryan Kwanten, Anthony LaPaglia, Miriam Margolyes, Sam Neill',\n",
       "  'director': 'Zack Snyder',\n",
       "  'title': \"Legend of the Guardians: The Owls of Ga'Hoole\"},\n",
       " {'duration': '93 min',\n",
       "  'cast': 'Juli Fàbregas, Ximena Romo, Héctor Illanes, Dolores Heredia',\n",
       "  'director': 'Santiago Alvarado Ilarri',\n",
       "  'title': 'The Day of the Lord'},\n",
       " {'duration': '93 min',\n",
       "  'cast': 'Pedro Alonso, Nacho Fresneda, Carmina Barrios, José Ángel Egido, Àlex Monner, Raúl Prieto, Maite Sandoval, Javier Godino, Luis Zahera, Miguel de Lira',\n",
       "  'director': 'Marc Vigil',\n",
       "  'title': 'The Silence of the Marsh'},\n",
       " {'duration': '121 min',\n",
       "  'cast': 'Marta Etura, Carlos Librado \"Nene\", Leonardo Sbaraglia, Francesc Orella, Imanol Arias, Benn Northover, Itziar Aizpuru, Patricia López Arnaiz, Alicia Sánchez, Eduardo Rosa',\n",
       "  'director': 'Fernando González Molina',\n",
       "  'title': 'The Legacy of the Bones'},\n",
       " {'duration': '110 min',\n",
       "  'cast': 'Mario Casas, Irene Escolar, Ruth Díaz',\n",
       "  'director': 'Samu Fuentes',\n",
       "  'title': 'The Skin of the Wolf'},\n",
       " {'duration': '110 min',\n",
       "  'cast': 'Maribel Verdú, Joaquín Furriel, Joaquín Rapalini',\n",
       "  'director': 'Gerardo Olivares',\n",
       "  'title': 'The Lighthouse of the Orcas'},\n",
       " {'duration': '90 min',\n",
       "  'cast': 'Kurt Russell, Jay Baruchel, Katheryn Winnick, Chris Diamantopoulos, Kenneth Welsh, Jason Jones, Terence Stamp, Matt Dillon, Devon Bostick',\n",
       "  'director': 'Jonathan Sobol',\n",
       "  'title': 'The Art of the Steal'},\n",
       " {'duration': '106 min',\n",
       "  'cast': 'Jason Segel, Jesse Eisenberg, Becky Ann Baker, Anna Chlumsky, Joan Cusack, Mamie Gummer, Ron Livingston, Mickey Sumner',\n",
       "  'director': 'James Ponsoldt',\n",
       "  'title': 'The End of the Tour'},\n",
       " {'duration': '96 min',\n",
       "  'cast': 'Billy Magnussen, Ron Yuan, Qu Jingjing, Terry Chen, Vanness Wu, Jin Xing, Philip Ng, Xia Yu, Yu Xia',\n",
       "  'director': 'George Nolfi',\n",
       "  'title': 'Birth of the Dragon'},\n",
       " {'duration': '121 min',\n",
       "  'cast': 'Bruce Willis, Monica Bellucci, Cole Hauser, Eamonn Walker, Johnny Messner, Nick Chinlund, Charles Ingram, Paul Francis, Chad Smith, Tom Skerritt, Malick Bowens, Awaovieyi Agie',\n",
       "  'director': 'Antoine Fuqua',\n",
       "  'title': 'Tears of the Sun'},\n",
       " {'duration': '156 min',\n",
       "  'cast': 'Gregory Peck, David Niven, Anthony Quinn, Stanley Baker, Anthony Quayle, James Darren, Irene Papas, Gia Scala, James Robertson Justice, Richard Harris',\n",
       "  'director': 'J. Lee Thompson',\n",
       "  'title': 'The Guns of Navarone'},\n",
       " {'duration': '105 min',\n",
       "  'cast': 'Hailee Steinfeld, Woody Harrelson, Kyra Sedgwick, Haley Lu Richardson, Blake Jenner, Hayden Szeto, Alexander Calvert, Eric Keenleyside',\n",
       "  'director': 'Kelly Fremon Craig',\n",
       "  'title': 'The Edge of Seventeen'},\n",
       " {'duration': '91 min',\n",
       "  'cast': 'Faisal Al Dokhei, Adwa Fahad, Muhand Alsaleh, Rawya Ahmed, Ajeba Aldosary, Aly Ibrahim, Samer Elkhal, Hashem Hawsawi, Ibrahim Mesisebi, Shabib Alkhaleefa, Abdulateif Saud, Nada Alshehry, Dhay Nasser',\n",
       "  'director': 'Abdulaziz Alshlahei',\n",
       "  'title': 'The Tambour of Retribution'},\n",
       " {'duration': '105 min',\n",
       "  'cast': 'Naomi Watts, Jaeden Martell, Jacob Tremblay, Sarah Silverman, Dean Norris, Lee Pace, Maddie Ziegler, Tonya Pinkins, Bobby Moynihan, Geraldine Hughes',\n",
       "  'director': 'Colin Trevorrow',\n",
       "  'title': 'The Book of Henry'},\n",
       " {'duration': '133 min',\n",
       "  'cast': 'Taraji P. Henson, Sam Rockwell, Babou Ceesay, Anne Heche, Wes Bentley, Nick Searcy, Bruce McGill, John Gallagher Jr., Nicholas Logan, Gilbert Glenn Brown',\n",
       "  'director': 'Robin Bissell',\n",
       "  'title': 'The Best of Enemies'},\n",
       " {'duration': '148 min',\n",
       "  'cast': 'Dave Bautista, Ella Purnell, Omari Hardwick, Garret Dillahunt, Ana de la Reguera, Theo Rossi, Matthias Schweighöfer, Nora Arnezeder, Hiroyuki Sanada, Tig Notaro, Raúl Castillo, Huma Qureshi, Samantha Win, Richard Cetrone, Michael Cassidy',\n",
       "  'director': 'Zack Snyder',\n",
       "  'title': 'Army of the Dead'},\n",
       " {'duration': '97 min',\n",
       "  'cast': 'Eric Roberts, James Earl Jones, Sally Kirkland, Chris Penn, Phillip Rhee, John P. Ryan, John Dye, Louise Fletcher',\n",
       "  'director': 'Robert Radler',\n",
       "  'title': 'Best of the Best'},\n",
       " {'duration': '101 min',\n",
       "  'cast': 'Cosmo Jarvis, Barry Keoghan, Niamh Algar, Ned Dennehy, Kiljan Tyr Moroney, David Wilmot, Brid Brennan, Simone Kirby, Anthony Welsh',\n",
       "  'director': 'Nick Rowland',\n",
       "  'title': 'The Shadow of Violence'},\n",
       " {'duration': '1 Season',\n",
       "  'cast': 'Luis Tosar, Marta Belmonte, Guillermo Toledo, Carlos Blanco, Marta Milans, Goize Blanco, Elena Irureta, Bea Segura, Jorge Andreu, Daniel Holguín, Adolfo Fernández, Fernando Barona, Juan Blanco, Ahmed Boulane, Pepe Ocio, Vito Sanz, Adelfa Calvo, Joaquín Climent, Carmelo Gómez, Miguel Ángel Solá',\n",
       "  'director': 'Mateo Gil',\n",
       "  'title': 'The Minions of Midas'},\n",
       " {'duration': '120 min',\n",
       "  'cast': 'Kathryn Bernardo, Daniel Padilla, Darren Espanto, Jean Garcia, Susan Africa, Ria Atayde, Kit Thompson, Odette Khan, Alwyn Uytingco, Juan Miguel Severo',\n",
       "  'director': 'Cathy Garcia-Molina',\n",
       "  'title': 'The Hows of Us'},\n",
       " {'duration': '86 min',\n",
       "  'cast': 'Emily Bader, Darren Mann, Michelle Randolph, Coy Stewart, Jesse Pepe, Arden Belle, Joel Nagle, Nolan Bateman',\n",
       "  'director': 'Alex Merkin',\n",
       "  'title': 'House of the Witch'},\n",
       " {'duration': '120 min',\n",
       "  'cast': 'Baraa Alem, Ismail Alhassan, Ahmed Saddam, Sohayb Godus, Nawaf Alshubaili, Eyad Ayman Kaifi',\n",
       "  'director': 'Faris Godus',\n",
       "  'title': 'The Book of Sun'},\n",
       " {'duration': '112 min',\n",
       "  'cast': 'Mana Ashida, Hiiro Ishibashi, Seishu Uragami, Win Morisaki, Goro Inagaki, Yu Aoi, Toru Watanabe, Min Tanaka, Sumiko Fuji',\n",
       "  'director': 'Ayumu Watanabe',\n",
       "  'title': 'Children of the Sea'},\n",
       " {'duration': '253 min',\n",
       "  'cast': 'Suhair El-Babili, Adel Emam, Saeed Saleh, Younes Shalabi, Hadi El-Gayyar, Ahmad Zaki, Hassan Moustafa',\n",
       "  'director': 'Houssam El-Din Mustafa',\n",
       "  'title': 'The School of Mischief'},\n",
       " {'duration': '105 min',\n",
       "  'cast': 'Leah Lewis, Daniel Diemer, Alexxis Lemire, Wolfgang Novogratz, Collin Chou, Becky Ann Baker, Enrique Murciano, Macintyre Dixon, Catherine Curtin',\n",
       "  'director': 'Alice Wu',\n",
       "  'title': 'The Half Of It'},\n",
       " {'duration': '94 min',\n",
       "  'cast': 'Małgorzata Kożuchowska, Daria Widawska, Katarzyna Bujakiewicz, Maria Dejmek, Andrzej Grabowski, Ewa Kasprzyk, Jacek Beler, Wojciech Kalinowski, Igor Kujawski, Iwona Bielska, Tomasz Oświeciński',\n",
       "  'director': 'Patryk Vega',\n",
       "  'title': 'The Plagues of Breslau'},\n",
       " {'duration': '107 min',\n",
       "  'cast': 'Steve Buscemi, Simon Russell Beale, Paddy Considine, Rupert Friend, Jason Isaacs, Michael Palin, Andrea Riseborough, Jeffrey Tambor, Olga Kurylenko, Paul Chahidi',\n",
       "  'director': 'Armando Iannucci',\n",
       "  'title': 'The Death of Stalin'},\n",
       " {'duration': '86 min',\n",
       "  'cast': 'Djédjé Apali, Eriq Ebouaney, Adama Niane, Vincent Vermignon, Djibril Pavadé, Zita Hanrot, Karim Belkhadra, Lise Lomi, Zoé Charron, Jocelyne Béroard, Julien Courbey, Lucien Jean-Baptiste, Romane Bohringer, Mathieu Kassovitz',\n",
       "  'director': 'Jean-Claude Flamand-Barny',\n",
       "  'title': 'Gang of the Caribbean'},\n",
       " {'duration': '86 min',\n",
       "  'cast': 'Sofia Wylie, Tiarnie Coupland, Trae Robin, Gemma Chua-Tran, Ashleigh Ross, Yasmin Honeychurch, Raj Labade, Christopher Kirby, Melissa Bonne, Kate Box',\n",
       "  'director': 'Louise Alston',\n",
       "  'title': 'Back of the Net'},\n",
       " {'duration': '46 min',\n",
       "  'cast': 'Miyu Irino, Kana Hanazawa, Fumi Hirano, Takeshi Maeda, Yuka Terasaki, Takanori Hoshino, Suguru Inoue, Megumi Han, Mikako Komatsu, Yuki Hayashi',\n",
       "  'director': 'Makoto Shinkai',\n",
       "  'title': 'The Garden of Words'},\n",
       " {'duration': '92 min',\n",
       "  'cast': 'Nur Fazura, Remy Ishak, Hisyam Hamid, Shenty Feliziana, Nam Ron, Tony Eusoff, Wan Hanafi Su',\n",
       "  'director': 'Glen Goei, Gavin Yap',\n",
       "  'title': 'Revenge of the Pontianak'},\n",
       " {'duration': '151 min',\n",
       "  'cast': 'Kippei Shiina, Shinnosuke Mitsushima, Kyooko Hinami, Eri Kamataki, Young Dais, Natsuki Kawamura, Yuzuka Nakaya, Dai Hasegawa, Chiho Fujii, Sei Matobu, Denden',\n",
       "  'director': 'Sion Sono',\n",
       "  'title': 'The Forest of Love'},\n",
       " {'duration': '87 min',\n",
       "  'cast': 'Megumi Ogata, Kotono Mitsuishi, Megumi Hayashibara, Yuko Miyamura, Yuriko Yamaguchi, Fumihiko Tachiki, Motomu Kiyokawa, Koichi Yamadera, Takehito Koyasu, Hiro Yuki, Miki Nagasawa, Maria Kawamura, Mugihito, Akira Ishida',\n",
       "  'director': 'Hideaki Anno, Kazuya Tsurumaki',\n",
       "  'title': 'The End of Evangelion'},\n",
       " {'duration': '99 min',\n",
       "  'cast': 'Jack Gore, Miya Cech, Benjamin Flores Jr., Alessio Scalzotto, Andrew Bachelor, Annabeth Gish, Scott MacArthur, Dean S. Jagger, Michael Beach, Lynn Collins, David Theune, Tony Cavalero, Carl McDowell, Punam Patel, Jason Rogel, Chris Wylde, Rudy Mancuso, Amanda Cerny, Allan Graf, Cameron Fuller, Richard Gore, Peter Parros, Annie Cavalero',\n",
       "  'director': 'McG',\n",
       "  'title': 'Rim of the World'},\n",
       " {'duration': '81 min',\n",
       "  'cast': 'Cynthia Dankwa, Ama K. Abebrese, Joseph Otsiman, Kobina Amissah Sam, Mamley Djangmah, Henry Adofo, Anima Misa, Brian Angels',\n",
       "  'director': 'Sam \"Blitz\" Bazawule',\n",
       "  'title': 'The Burial of Kojo'},\n",
       " {'duration': '110 min',\n",
       "  'cast': 'Mario Casas, Richard van Weyden, Alain Hernández, Adrià Salazar, Eduard Buch, Stefan Weinert, Rubén Yuste, Nikola Stojanovic, Frank Feys, Marc Rodríguez, Albert Mora, Luka Peros, Rainer Reiners, Toni Gomila, Emilio Gavira, Macarena Gómez',\n",
       "  'director': 'Mar Targarona',\n",
       "  'title': 'The Photographer Of Mauthausen'},\n",
       " {'duration': '136 min',\n",
       "  'cast': 'Úrsula Corberó, Álvaro Cervantes, Najwa Nimri, Patricia López Arnaiz, Daniel Grao, Joaquín Furriel, Maria Molins, Emilio Gutiérrez Caba, Luisa Gavasa, José María Pou, Ángela Molina',\n",
       "  'director': 'Julio Medem',\n",
       "  'title': 'The Tree of Blood'},\n",
       " {'duration': '123 min',\n",
       "  'cast': 'Emily Watson, Charlie Cox, Felicity Jones, Maxine Peake, Harry Lloyd, Eddie Redmayne, David Thewlis, Simon McBurney',\n",
       "  'director': 'James Marsh',\n",
       "  'title': 'The Theory of Everything'},\n",
       " {'duration': '101 min',\n",
       "  'cast': 'Vito Sanz, Berta Vázquez, Chino Darín, Vicky Luengo, Andrea Ros, Irene Escolar, Josep Maria Pou, Daniel Sánchez Arévalo',\n",
       "  'director': 'Mateo Gil',\n",
       "  'title': 'The Laws of Thermodynamics'},\n",
       " {'duration': '92 min',\n",
       "  'cast': 'Tahar Rahim, Maïwenn Le Besco, Roschdy Zem, Grégoire Colin, Sultan, Ali Marhyar, Camille Lellouche, Saïda Bekkouche, Meriem Serbah, Salma Lahmer',\n",
       "  'director': 'Teddy Lussi-Modeste',\n",
       "  'title': 'The Price of Success'},\n",
       " {'duration': '115 min',\n",
       "  'cast': 'Magdalena Boczarska, Eryk Lubos, Justyna Wasilewska, Piotr Adamczyk, Arkadiusz Jakubik, Wojciech Mecwaldowski, Borys Szyc, Katarzyna Kwiatkowska, Artur Barciś',\n",
       "  'director': 'Maria Sadowska',\n",
       "  'title': 'The Art of Loving'}]"
      ]
     },
     "execution_count": 28,
     "metadata": {},
     "output_type": "execute_result"
    }
   ],
   "source": [
    "INPUT = input(\"Enter the Input Query  : \")\n",
    "\n",
    "query = {\n",
    "   \"_source\": [\"title\",\"cast\",\"director\",\"duration\"],\n",
    "   \"size\":50,\n",
    "   \"query\":{\n",
    "      \"match\": {\n",
    "        \"title\": INPUT\n",
    "      }\n",
    "   }\n",
    "}\n",
    "#es = Elasticsearch(timeout=600, hosts=os.getenv(\"ENDPOINT\"))\n",
    "res = es.search(index='myelkfirst',\n",
    "                body=query)\n",
    "\n",
    "title = [x['_source']  for x in res['hits']['hits']]\n",
    "title"
   ]
  },
  {
   "cell_type": "markdown",
   "id": "0ba29eeb",
   "metadata": {},
   "source": [
    "## Search Query for aggregation of word"
   ]
  },
  {
   "cell_type": "code",
   "execution_count": 30,
   "id": "aa412d57",
   "metadata": {},
   "outputs": [
    {
     "name": "stderr",
     "output_type": "stream",
     "text": [
      "/tmp/ipykernel_7074/2459221246.py:16: DeprecationWarning: The 'body' parameter is deprecated and will be removed in a future version. Instead use individual parameters.\n",
      "  res = es.search(index='myelkfirst',\n",
      "/tmp/ipykernel_7074/2459221246.py:16: ElasticsearchWarning: Elasticsearch built-in security features are not enabled. Without authentication, your cluster could be accessible to anyone. See https://www.elastic.co/guide/en/elasticsearch/reference/7.17/security-minimal-setup.html to enable security.\n",
      "  res = es.search(index='myelkfirst',\n"
     ]
    },
    {
     "data": {
      "text/plain": [
       "[{'title': 'Sankofa',\n",
       "  'director': 'Haile Gerima',\n",
       "  'description': 'On a photo shoot in Ghana, an American model slips back in time, becomes enslaved on a plantation and bears witness to the agony of her ancestral past.',\n",
       "  'duration': '125 min',\n",
       "  'cast': 'Kofi Ghanaba, Oyafunmike Ogunlano, Alexandra Duah, Nick Medley, Mutabaruka, Afemo Omilami, Reggie Carter, Mzuri'},\n",
       " {'title': 'The Great British Baking Show',\n",
       "  'director': 'Andy Devonshire',\n",
       "  'description': \"A talented batch of amateur bakers face off in a 10-week competition, whipping up their best dishes in the hopes of being named the U.K.'s best.\",\n",
       "  'duration': '9 Seasons',\n",
       "  'cast': 'Mel Giedroyc, Sue Perkins, Mary Berry, Paul Hollywood'},\n",
       " {'title': 'The Starling',\n",
       "  'director': 'Theodore Melfi',\n",
       "  'description': \"A woman adjusting to life after a loss contends with a feisty bird that's taken over her garden — and a husband who's struggling to find a way forward.\",\n",
       "  'duration': '104 min',\n",
       "  'cast': \"Melissa McCarthy, Chris O'Dowd, Kevin Kline, Timothy Olyphant, Daveed Diggs, Skyler Gisondo, Laura Harrier, Rosalind Chao, Kimberly Quinn, Loretta Devine, Ravi Kapoor\"},\n",
       " {'title': 'Je Suis Karl',\n",
       "  'director': 'Christian Schwochow',\n",
       "  'description': 'After most of her family is murdered in a terrorist bombing, a young woman is unknowingly lured into joining the very group that killed them.',\n",
       "  'duration': '127 min',\n",
       "  'cast': 'Luna Wedler, Jannis Niewöhner, Milan Peschel, Edin Hasanović, Anna Fialová, Marlon Boess, Victor Boccard, Fleur Geffrier, Aziz Dyab, Mélanie Fouché, Elizaveta Maximová'},\n",
       " {'title': 'Jeans',\n",
       "  'director': 'S. Shankar',\n",
       "  'description': 'When the father of the man she loves insists that his twin sons marry twin sisters, a woman creates an alter ego that might be a bit too convincing.',\n",
       "  'duration': '166 min',\n",
       "  'cast': 'Prashanth, Aishwarya Rai Bachchan, Sri Lakshmi, Nassar'},\n",
       " {'title': 'Grown Ups',\n",
       "  'director': 'Dennis Dugan',\n",
       "  'description': 'Mourning the loss of their beloved junior high basketball coach, five middle-aged pals reunite at a lake house and rediscover the joys of being a kid.',\n",
       "  'duration': '103 min',\n",
       "  'cast': 'Adam Sandler, Kevin James, Chris Rock, David Spade, Rob Schneider, Salma Hayek, Maria Bello, Maya Rudolph, Colin Quinn, Tim Meadows, Joyce Van Patten'},\n",
       " {'title': 'Dark Skies',\n",
       "  'director': 'Scott Stewart',\n",
       "  'description': 'A family’s idyllic suburban life shatters when an alien force invades their home, and as they struggle to convince others of the deadly threat.',\n",
       "  'duration': '97 min',\n",
       "  'cast': 'Keri Russell, Josh Hamilton, J.K. Simmons, Dakota Goyo, Kadan Rockett, L.J. Benet, Rich Hutchman, Myndy Crist, Annie Thurman, Jake Brennan'},\n",
       " {'title': 'Paranoia',\n",
       "  'director': 'Robert Luketic',\n",
       "  'description': \"Blackmailed by his company's CEO, a low-level employee finds himself forced to spy on the boss's rival and former mentor.\",\n",
       "  'duration': '106 min',\n",
       "  'cast': 'Liam Hemsworth, Gary Oldman, Amber Heard, Harrison Ford, Lucas Till, Embeth Davidtz, Julian McMahon, Josh Holloway, Richard Dreyfuss, Angela Sarafyan'},\n",
       " {'title': 'Birth of the Dragon',\n",
       "  'director': 'George Nolfi',\n",
       "  'description': 'A young Bruce Lee angers kung fu traditionalists by teaching outsiders, leading to a showdown with a Shaolin master in this film based on real events.',\n",
       "  'duration': '96 min',\n",
       "  'cast': 'Billy Magnussen, Ron Yuan, Qu Jingjing, Terry Chen, Vanness Wu, Jin Xing, Philip Ng, Xia Yu, Yu Xia'},\n",
       " {'title': 'Jaws',\n",
       "  'director': 'Steven Spielberg',\n",
       "  'description': 'When an insatiable great white shark terrorizes Amity Island, a police chief, an oceanographer and a grizzled shark hunter seek to destroy the beast.',\n",
       "  'duration': '124 min',\n",
       "  'cast': 'Roy Scheider, Robert Shaw, Richard Dreyfuss, Lorraine Gary, Murray Hamilton, Carl Gottlieb, Jeffrey Kramer, Susan Backlinie, Jonathan Filley, Ted Grossman'},\n",
       " {'title': 'Jaws 2',\n",
       "  'director': 'Jeannot Szwarc',\n",
       "  'description': 'Four years after the last deadly shark attacks, police chief Martin Brody fights to protect Amity Island from another killer great white.',\n",
       "  'duration': '116 min',\n",
       "  'cast': 'Roy Scheider, Lorraine Gary, Murray Hamilton, Joseph Mascolo, Jeffrey Kramer, Collin Wilcox Paxton, Ann Dusenberry, Mark Gruner, Barry Coe, Susan French'},\n",
       " {'title': 'Jaws 3',\n",
       "  'director': 'Joe Alves',\n",
       "  'description': 'After the staff of a marine theme park try to capture a young great white shark, they discover its mother has invaded the enclosure and is out for blood.',\n",
       "  'duration': '98 min',\n",
       "  'cast': 'Dennis Quaid, Bess Armstrong, Simon MacCorkindale, Louis Gossett Jr., John Putch, Lea Thompson, P.H. Moriarty, Dan Blasko, Liz Morris, Lisa Maurer'},\n",
       " {'title': 'Jaws: The Revenge',\n",
       "  'director': 'Joseph Sargent',\n",
       "  'description': 'After another deadly shark attack, Ellen Brody has had enough of Amity Island and moves to the Caribbean – but a great white shark follows her there.',\n",
       "  'duration': '91 min',\n",
       "  'cast': 'Lorraine Gary, Lance Guest, Mario Van Peebles, Karen Young, Michael Caine, Judith Barsi, Mitchell Anderson, Lynn Whitfield'},\n",
       " {'title': 'Safe House',\n",
       "  'director': 'Daniel Espinosa',\n",
       "  'description': \"Young CIA operative Matt Weston must get a dangerous criminal out of an agency safe house that's come under attack and get him to a securer location.\",\n",
       "  'duration': '115 min',\n",
       "  'cast': 'Denzel Washington, Ryan Reynolds, Vera Farmiga, Brendan Gleeson, Sam Shepard, Rubén Blades, Nora Arnezeder, Robert Patrick, Liam Cunningham, Joel Kinnaman'},\n",
       " {'title': 'Training Day',\n",
       "  'director': 'Antoine Fuqua',\n",
       "  'description': \"A rookie cop with one day to prove himself to a veteran LAPD narcotics officer receives a crash course in his mentor's questionable brand of justice.\",\n",
       "  'duration': '122 min',\n",
       "  'cast': 'Denzel Washington, Ethan Hawke, Scott Glenn, Tom Berenger, Harris Yulin, Raymond J. Barry, Cliff Curtis, Dr. Dre, Snoop Dogg, Macy Gray, Eva Mendes'},\n",
       " {'title': 'InuYasha the Movie 2: The Castle Beyond the Looking Glass',\n",
       "  'director': 'Toshiya Shinohara',\n",
       "  'description': 'With their biggest foe seemingly defeated, InuYasha and his friends return to everyday life. But the peace is soon shattered by an emerging new enemy.',\n",
       "  'duration': '99 min',\n",
       "  'cast': 'Kappei Yamaguchi, Satsuki Yukino, Mieko Harada, Koji Tsujitani, Houko Kuwashima, Kumiko Watanabe, Noriko Hidaka, Kenichi Ogata, Toshiyuki Morikawa, Izumi Ogami'},\n",
       " {'title': 'InuYasha the Movie 3: Swords of an Honorable Ruler',\n",
       "  'director': 'Toshiya Shinohara',\n",
       "  'description': 'The Great Dog Demon beaqueathed one of the Three Swords of the Fang to each of his two sons. Now the evil power of the third sword has been awakened.',\n",
       "  'duration': '99 min',\n",
       "  'cast': 'Kappei Yamaguchi, Satsuki Yukino, Koji Tsujitani, Houko Kuwashima, Kumiko Watanabe, Ken Narita, Akio Otsuka, Kikuko Inoue'},\n",
       " {'title': 'InuYasha the Movie 4: Fire on the Mystic Island',\n",
       "  'director': 'Toshiya Shinohara',\n",
       "  'description': 'Ai, a young half-demon who has escaped from Horai Island to try to help her people, returns with potential saviors InuYasha, Sesshomaru and Kikyo.',\n",
       "  'duration': '88 min',\n",
       "  'cast': 'Kappei Yamaguchi, Satsuki Yukino, Koji Tsujitani, Houko Kuwashima, Kumiko Watanabe, Noriko Hidaka, Ken Narita, Cho, Mamiko Noto, Nobutoshi Canna'},\n",
       " {'title': 'InuYasha the Movie: Affections Touching Across Time',\n",
       "  'director': 'Toshiya Shinohara',\n",
       "  'description': \"A powerful demon has been sealed away for 200 years. But when the demon's son is awakened, the fate of the world is in jeopardy.\",\n",
       "  'duration': '100 min',\n",
       "  'cast': 'Kappei Yamaguchi, Satsuki Yukino, Koji Tsujitani, Houko Kuwashima, Kumiko Watanabe, Kenichi Ogata, Noriko Hidaka, Hisako Kyoda, Ken Narita, Tomokazu Seki'},\n",
       " {'title': 'Naruto Shippuden the Movie: Blood Prison',\n",
       "  'director': 'Masahiko Murata',\n",
       "  'description': 'Mistakenly accused of an attack on the Fourth Raikage, ninja Naruto is imprisoned in the impenetrable Hozuki Castle and his powers are sealed.',\n",
       "  'duration': '102 min',\n",
       "  'cast': 'Junko Takeuchi, Chie Nakamura, Rikiya Koyama, Kazuhiko Inoue, Masaki Terasoma, Mie Sonozaki, Yuichi Nakamura, Kengo Kawanishi, Kosei Hirota, Masako Katsuki'},\n",
       " {'title': 'Naruto Shippûden the Movie: Bonds',\n",
       "  'director': 'Hajime Kamegaki',\n",
       "  'description': \"When strange ninjas ambush the village of Konohagakure, it's up to adolescent ninja Naruto and his long-missing pal, Sasuke, to save the planet.\",\n",
       "  'duration': '93 min',\n",
       "  'cast': 'Junko Takeuchi, Chie Nakamura, Noriaki Sugiyama, Unsho Ishizuka, Motoko Kumai, Kazuhiko Inoue, Rikiya Koyama, Showtaro Morikubo, Nana Mizuki, Satoshi Hino, Shinji Kawada'},\n",
       " {'title': 'Naruto Shippûden the Movie: The Will of Fire',\n",
       "  'director': 'Masahiko Murata',\n",
       "  'description': 'When four out of five ninja villages are destroyed, the leader of the one spared tries to find the true culprit and protect his land.',\n",
       "  'duration': '96 min',\n",
       "  'cast': 'Junko Takeuchi, Chie Nakamura, Kazuhiko Inoue, Satoshi Hino, Showtaro Morikubo, Kentaro Ito, Ryoka Yuzuki, Kohsuke Toriumi, Nana Mizuki, Shinji Kawada, Yoichi Masukawa, Koichi Tochika, Yukari Tamura'},\n",
       " {'title': 'Naruto Shippuden: The Movie',\n",
       "  'director': 'Hajime Kamegaki',\n",
       "  'description': \"The adventures of adolescent ninja Naruto Uzumaki continue as he's tasked with protecting a priestess from a demon – but to do so, he must die.\",\n",
       "  'duration': '95 min',\n",
       "  'cast': 'Junko Takeuchi, Chie Nakamura, Yoichi Masukawa, Koichi Tochika, Ayumi Fujimura, Keisuke Oda, Daisuke Kishio, Fumiko Orikasa, Hidetoshi Nakamura, Tetsuya Kakihara, Kisho Taniyama, Miyuki Sawashiro, Katsuyuki Konishi, Masako Katsuki, Keiko Nemoto, Masashi Ebara, Kazuhiko Inoue, Showtaro Morikubo, Romi Park, Daisuke Ono, Seizo Kato'},\n",
       " {'title': 'Naruto Shippuden: The Movie: The Lost Tower',\n",
       "  'director': 'Masahiko Murata',\n",
       "  'description': 'When Naruto is sent to recover a missing nin, the rogue manages to send him 20 years into the past, where he unites with his father to battle evil.',\n",
       "  'duration': '85 min',\n",
       "  'cast': 'Junko Takeuchi, Chie Nakamura, Satoshi Hino, Rikiya Koyama, Nobuaki Fukuda, Kenji Hamada, Keiko Nemoto, Saori Hayami, Yumi Toma, Yuko Kobayashi, Fujiko Takimoto, Mutsumi Tamura, Mayuki Makiguchi, Toshiyuki Morikawa'},\n",
       " {'title': 'Naruto the Movie 2: Legend of the Stone of Gelel',\n",
       "  'director': 'Hirotsugu Kawasaki',\n",
       "  'description': 'While on a mission to return a missing pet, Naruto and two fellow ninjas are ambushed by brutal knights led by the enigmatic Temujin.',\n",
       "  'duration': '97 min',\n",
       "  'cast': 'Junko Takeuchi, Gamon Kaai, Chie Nakamura, Showtaro Morikubo, Akira Ishida, Yasuyuki Kase, Urara Takano, Sachiko Kojima, Houko Kuwashima, Takako Honda'},\n",
       " {'title': 'Naruto the Movie 3: Guardians of the Crescent Moon Kingdom',\n",
       "  'director': 'Toshiyuki Tsuru',\n",
       "  'description': 'Exuberant ninja Naruto teams up with his pals Sakura and Kakashi to escort Prince Michiru and his son, Hikaru, to the Crescent Moon kingdom.',\n",
       "  'duration': '95 min',\n",
       "  'cast': 'Junko Takeuchi, Chie Nakamura, Yoichi Masukawa, Kazuhiko Inoue, Akio Otsuka, Kyousuke Ikeda, Marika Hayashi, Umeji Sasaki, Masashi Sugawara, Hisao Egawa'},\n",
       " {'title': 'Naruto the Movie: Ninja Clash in the Land of Snow',\n",
       "  'director': 'Tensai Okamura',\n",
       "  'description': \"Naruto, Sasuke and Sakura learn they'll be protecting an actress from being hurt while making her next film, but it turns out she's a princess.\",\n",
       "  'duration': '83 min',\n",
       "  'cast': 'Junko Takeuchi, Noriaki Sugiyama, Chie Nakamura, Kazuhiko Inoue, Yuhko Kaida, Tsutomu Isobe, Hirotaka Suzuoki, Jun Karasawa, Harii Kaneko, Ikuo Nishikawa'},\n",
       " {'title': 'King of Boys',\n",
       "  'director': 'Kemi Adetiba',\n",
       "  'description': 'When a powerful businesswoman’s political ambitions are threatened by her underworld connections, the ensuing power struggle could cost her everything.',\n",
       "  'duration': '182 min',\n",
       "  'cast': 'Sola Sobowale, Adesua Etomi, Remilekun \"Reminisce\" Safaru, Tobechukwu \"iLLbliss\" Ejiofor, Toni Tones, Paul Sambo, Jide Kosoko, Sharon Ooja'},\n",
       " {'title': 'Kate',\n",
       "  'director': 'Cedric Nicolas-Troyan',\n",
       "  'description': 'Slipped a fatal poison on her final job, a ruthless assassin working in Tokyo has less than 24 hours to find out who ordered the hit and exact revenge.',\n",
       "  'duration': '106 min',\n",
       "  'cast': 'Mary Elizabeth Winstead, Jun Kunimura, Woody Harrelson, Tadanobu Asano, Miyavi, Michiel Huisman, Miku Martineau'},\n",
       " {'title': 'Omo Ghetto: the Saga',\n",
       "  'director': 'JJC Skillz, Funke Akindele',\n",
       "  'description': 'Twins are reunited as a good-hearted female gangster and her uptight rich sister take on family, crime, cops and all of the trouble that follows them.',\n",
       "  'duration': '147 min',\n",
       "  'cast': 'Funke Akindele, Ayo Makun, Chioma Chukwuka Akpotha, Yemi Eberechi Alade, Blossom Chukwujekwu, Deyemi Okanlawon, Alexx Ekubo, Zubby Michael, Tina Mba, Femi Jacobs'},\n",
       " {'title': 'Paradise Hills',\n",
       "  'director': 'Alice Waddington',\n",
       "  'description': 'Uma wakes up in a lush tropical facility designed to turn willful girls into perfect ladies. That’s bad enough, but its real purpose is even worse.',\n",
       "  'duration': '95 min',\n",
       "  'cast': 'Emma Roberts, Danielle Macdonald, Awkwafina, Eiza González, Milla Jovovich, Jeremy Irvine, Arnaud Valois, Daniel Horvath'},\n",
       " {'title': 'Show Dogs',\n",
       "  'director': 'Raja Gosnell',\n",
       "  'description': 'A rough and tough police dog must go undercover with an FBI agent as a prim and proper pet at a dog show to save a baby panda from an illegal sale.',\n",
       "  'duration': '90 min',\n",
       "  'cast': \"Will Arnett, Ludacris, Natasha Lyonne, Stanley Tucci, Jordin Sparks, Gabriel Iglesias, Shaquille O'Neal, Omar Chaparro, Alan Cumming, Andy Beckwith, Delia Sheppard, Kerry Shale\"},\n",
       " {'title': 'If I Leave Here Tomorrow: A Film About Lynyrd Skynyrd',\n",
       "  'director': 'Stephen Kijak',\n",
       "  'description': 'Using interviews and archival footage, this documentary charts the story of the legendary Southern rockers with a focus on front man Ronnie Van Zant.',\n",
       "  'duration': '97 min',\n",
       "  'cast': 'Ronnie Van Zandt, Gary Rossington, Allen Collins, Leon Wilkeson, Bob Burns, Billy Powell, Ed King, Artimus Pyle, Steve Gaines, Johnny Van Zant'},\n",
       " {'title': 'Angamaly Diaries',\n",
       "  'director': 'Lijo Jose Pellissery',\n",
       "  'description': 'After growing up amidst the gang wars of his hometown, Vincent forms an entrepreneurial squad of his own and ends up on the wrong side of the law.',\n",
       "  'duration': '128 min',\n",
       "  'cast': 'Antony Varghese, Reshma Rajan, Binny Rinky Benjamin, Vineeth Vishwam, Kichu Tellus, Sreekanth Dasan, Sarath Kumar, Tito Wilson, Anandhu, Bitto Davis, Sinoj Varghese'},\n",
       " {'title': 'A Champion Heart',\n",
       "  'director': 'David de Vos',\n",
       "  'description': 'When a grieving teen must work off her debt to a ranch, she cares for a wounded horse that teaches her more about healing than she expected.',\n",
       "  'duration': '90 min',\n",
       "  'cast': 'Mandy Grace, David de Vos, Donna Rusch, Devan Key, Isabella Mancuso, Ariana Guido'},\n",
       " {'title': 'Anjaam',\n",
       "  'director': 'Rahul Rawail',\n",
       "  'description': 'A wealthy industrialist’s dangerous obsession with a flight attendant destroys her world, until she takes matters into her own hands to exact revenge.',\n",
       "  'duration': '143 min',\n",
       "  'cast': 'Madhuri Dixit, Shah Rukh Khan, Tinnu Anand, Johny Lever, Kalpana Iyer, Himani Shivpuri, Sudha Chandran, Beena, Kiran Kumar'},\n",
       " {'title': 'Bright Star',\n",
       "  'director': 'Jane Campion',\n",
       "  'description': 'This drama details the passionate three-year romance between Romantic poet John Keats – who died tragically at age 25 – and his great love and muse.',\n",
       "  'duration': '119 min',\n",
       "  'cast': 'Abbie Cornish, Ben Whishaw, Paul Schneider, Kerry Fox, Edie Martin, Thomas Brodie-Sangster, Claudie Blakley, Gerard Monaco, Antonia Campbell-Hughes, Samuel Roukin'},\n",
       " {'title': 'Dhanak',\n",
       "  'director': 'Nagesh Kukunoor',\n",
       "  'description': 'A movie-loving 10-year-old and her blind little brother trek to meet Indian superstar Shah Rukh Khan for help in getting the boy an eye operation.',\n",
       "  'duration': '114 min',\n",
       "  'cast': 'Krrish Chhabria, Hetal Gada, Vipin Sharma, Gulfam Khan, Suresh Menon, Vijay Maurya, Rajiv Lakshman, Ninad Kamat'},\n",
       " {'title': 'Gurgaon',\n",
       "  'director': 'Shanker Raman',\n",
       "  'description': 'When the daughter of a wealthy family returns from college, she gets a frosty welcome from her brother, who has problems – and plans – of his own.',\n",
       "  'duration': '106 min',\n",
       "  'cast': 'Akshay Oberoi, Pankaj Tripathi, Ragini Khanna, Aamir Bashir, Shalini Vatsa, Ashish Verma'},\n",
       " {'title': 'In the Cut',\n",
       "  'director': 'Jane Campion',\n",
       "  'description': 'After embarking on an affair with the cop probing the murder of a young woman, an insular schoolteacher suspects her lover was involved in the crime.',\n",
       "  'duration': '118 min',\n",
       "  'cast': 'Meg Ryan, Mark Ruffalo, Jennifer Jason Leigh, Nick Damici, Sharrieff Pugh, Kevin Bacon, Yaani King Mondschein, Heather Litteer'},\n",
       " {'title': 'Shikara',\n",
       "  'director': 'Vidhu Vinod Chopra',\n",
       "  'description': 'A couple must strive to remain resilient after regional hostilities drive them from their beloved home into a refugee camp.',\n",
       "  'duration': '115 min',\n",
       "  'cast': 'Aadil Khan, Sadia Khateeb, Zain Khan Durrani, Priyanshu Chatterjee, Bhavna Chauhan, Ashwin Dhar, Farid Azad Khan, Saghar Sehrai'},\n",
       " {'title': 'A Cinderella Story',\n",
       "  'director': 'Mark Rosman',\n",
       "  'description': \"Teen Sam meets the boy of her dreams at a dance before returning to toil in her stepmother's diner. Can her lost cell phone bring them together?\",\n",
       "  'duration': '95 min',\n",
       "  'cast': 'Hilary Duff, Chad Michael Murray, Jennifer Coolidge, Dan Byrd, Regina King, Julie Gonzalo, Lin Shaye, Madeline Zima, Andrea Avery, Mary Pat Gleason, Paul Rodriguez, Whip Hubley, Kevin Kilner, Erica Hubbard, Simon Helberg'},\n",
       " {'title': 'An Unfinished Life',\n",
       "  'director': 'Lasse Hallström',\n",
       "  'description': 'A grieving widow and her daughter move in with her estranged father-in-law in Wyoming, where time allows them to heal and forgive.',\n",
       "  'duration': '108 min',\n",
       "  'cast': 'Robert Redford, Jennifer Lopez, Morgan Freeman, Josh Lucas, Damian Lewis, Camryn Manheim, Becca Gardner, Lynda Boyd, Rob Hayter, P. Lynn Johnson'},\n",
       " {'title': 'Blade Runner: The Final Cut',\n",
       "  'director': 'Ridley Scott',\n",
       "  'description': 'In a smog-choked dystopian Los Angeles, blade runner Rick Deckard is called out of retirement to snuff a quartet of escaped \"replicants.\"',\n",
       "  'duration': '117 min',\n",
       "  'cast': 'Harrison Ford, Rutger Hauer, Sean Young, Edward James Olmos, M. Emmet Walsh, Daryl Hannah, William Sanderson, Brion James, Joe Turkel, Joanna Cassidy, James Hong, Morgan Paull'},\n",
       " {'title': 'Chappie',\n",
       "  'director': 'Neill Blomkamp',\n",
       "  'description': 'In a futuristic society where an indestructible robot police force keeps crime at bay, a lone droid evolves to the next level of artificial intelligence.',\n",
       "  'duration': '121 min',\n",
       "  'cast': 'Sharlto Copley, Hugh Jackman, Sigourney Weaver, Dev Patel, Ninja, Yo-Landi Visser, Jose Pablo Cantillo, Brandon Auret, Johnny Selema, Maurice Carpede'},\n",
       " {'title': 'Clear and Present Danger',\n",
       "  'director': 'Phillip Noyce',\n",
       "  'description': \"When the president's friend is murdered, CIA Deputy Director Jack Ryan becomes unwittingly involved in an illegal war against a Colombian drug cartel.\",\n",
       "  'duration': '142 min',\n",
       "  'cast': 'Harrison Ford, Willem Dafoe, Anne Archer, Joaquim de Almeida, Henry Czerny, Harris Yulin, Donald Moffat, Miguel Sandoval, Benjamin Bratt, Dean Jones, Thora Birch, James Earl Jones, Raymond Cruz'},\n",
       " {'title': 'Cliffhanger',\n",
       "  'director': 'Renny Harlin',\n",
       "  'description': 'Ranger Gabe Walker and his partner are called to rescue a group of stranded climbers, only to learn the climbers are actually thieving hijackers.',\n",
       "  'duration': '113 min',\n",
       "  'cast': 'Sylvester Stallone, John Lithgow, Michael Rooker, Janine Turner, Rex Linn, Caroline Goodall, Leon, Craig Fairbrass, Ralph Waite, Max Perlich, Paul Winfield'},\n",
       " {'title': 'Cold Mountain',\n",
       "  'director': 'Anthony Minghella',\n",
       "  'description': \"This drama follows a wounded Civil War soldier making the long journey home, while his faraway love fights for survival on her deceased father's farm.\",\n",
       "  'duration': '154 min',\n",
       "  'cast': 'Jude Law, Nicole Kidman, Renée Zellweger, Eileen Atkins, Brendan Gleeson, Philip Seymour Hoffman, Natalie Portman, Giovanni Ribisi, Donald Sutherland, Ray Winstone'},\n",
       " {'title': 'Crocodile Dundee in Los Angeles',\n",
       "  'director': 'Simon Wincer',\n",
       "  'description': 'When Mick \"Crocodile\" Dundee and his family land in Los Angeles, they soon learn some lessons about American life in this comedy sequel.',\n",
       "  'duration': '95 min',\n",
       "  'cast': 'Paul Hogan, Linda Kozlowski, Jere Burns, Jonathan Banks, Aida Turturro, Alec Wilson, Gerry Skilton, Steve Rackman, Serge Cockburn, Paul Rodriguez, Mark Adair-Rios, Tiriel Mora, Grant Piro, Mike Tyson'},\n",
       " {'title': 'Dear John',\n",
       "  'director': 'Lasse Hallström',\n",
       "  'description': \"While on summer leave, a U.S. soldier falls for a college student. But when he's forced to reenlist, their handwritten letters hold the lovers together.\",\n",
       "  'duration': '108 min',\n",
       "  'cast': 'Channing Tatum, Amanda Seyfried, Richard Jenkins, Henry Thomas, D.J. Cotrona, Cullen Moss, Gavin McCulley, Jose Lucena Jr., Keith Robinson, Scott Porter'}]"
      ]
     },
     "execution_count": 30,
     "metadata": {},
     "output_type": "execute_result"
    }
   ],
   "source": [
    "query = {\n",
    "  \"size\":50,\n",
    "  \"aggs\": {\n",
    "    \"cast_names\": {\n",
    "      \"terms\": {\n",
    "        \"field\": \"cast.keyword\",\n",
    "        \"size\": 5,\n",
    "        \"order\": {\n",
    "          \"_count\": \"desc\"\n",
    "        }\n",
    "      }\n",
    "    }\n",
    "  }\n",
    "}\n",
    "#es = Elasticsearch(timeout=600, hosts=os.getenv(\"ENDPOINT\"))\n",
    "res = es.search(index='myelkfirst',\n",
    "                body=query)\n",
    "\n",
    "title = [x['_source']  for x in res['hits']['hits']]\n",
    "title"
   ]
  }
 ],
 "metadata": {
  "kernelspec": {
   "display_name": "Python 3 (ipykernel)",
   "language": "python",
   "name": "python3"
  },
  "language_info": {
   "codemirror_mode": {
    "name": "ipython",
    "version": 3
   },
   "file_extension": ".py",
   "mimetype": "text/x-python",
   "name": "python",
   "nbconvert_exporter": "python",
   "pygments_lexer": "ipython3",
   "version": "3.8.10"
  }
 },
 "nbformat": 4,
 "nbformat_minor": 5
}
